{
 "cells": [
  {
   "cell_type": "code",
   "execution_count": 1,
   "id": "6bf1cacb",
   "metadata": {},
   "outputs": [
    {
     "name": "stdout",
     "output_type": "stream",
     "text": [
      "merah\n",
      "kuning\n",
      "hijau\n",
      "biru\n",
      "orens\n"
     ]
    }
   ],
   "source": [
    "#LIST\n",
    "#Perulangan\n",
    "warna =['merah','kuning','hijau','biru','orens']\n",
    "for i in(warna):\n",
    "    print(i)"
   ]
  },
  {
   "cell_type": "code",
   "execution_count": 2,
   "id": "9195cdbe",
   "metadata": {},
   "outputs": [
    {
     "name": "stdout",
     "output_type": "stream",
     "text": [
      "['merah', 'kuning', 'hijau', 'biru', 'putih']\n"
     ]
    }
   ],
   "source": [
    "#Mengupdate nilai list\n",
    "warna[4]='putih'\n",
    "print(warna)"
   ]
  },
  {
   "cell_type": "code",
   "execution_count": 3,
   "id": "d3a032bd",
   "metadata": {},
   "outputs": [
    {
     "name": "stdout",
     "output_type": "stream",
     "text": [
      "['kuning', 'hijau', 'biru', 'putih']\n"
     ]
    }
   ],
   "source": [
    "#Menghapus nilai List\n",
    "#Remove\n",
    "warna.remove('merah')\n",
    "print(warna)"
   ]
  },
  {
   "cell_type": "code",
   "execution_count": 4,
   "id": "ff0c00ce",
   "metadata": {},
   "outputs": [
    {
     "name": "stdout",
     "output_type": "stream",
     "text": [
      "['kuning', 'biru', 'putih']\n"
     ]
    }
   ],
   "source": [
    "#Del\n",
    "del warna[1]\n",
    "print(warna)"
   ]
  },
  {
   "cell_type": "code",
   "execution_count": 6,
   "id": "df658e91",
   "metadata": {},
   "outputs": [
    {
     "name": "stdout",
     "output_type": "stream",
     "text": [
      "['kuning', 'biru']\n"
     ]
    }
   ],
   "source": [
    "#Pop\n",
    "warna.pop()\n",
    "print(warna)"
   ]
  },
  {
   "cell_type": "code",
   "execution_count": 7,
   "id": "af0cb38c",
   "metadata": {},
   "outputs": [
    {
     "name": "stdout",
     "output_type": "stream",
     "text": [
      "['kuning', 'biru', 'pink']\n"
     ]
    }
   ],
   "source": [
    "#Menambah nilai List\n",
    "#Append\n",
    "warna.append('pink')\n",
    "print(warna)"
   ]
  },
  {
   "cell_type": "code",
   "execution_count": 8,
   "id": "32612400",
   "metadata": {},
   "outputs": [
    {
     "name": "stdout",
     "output_type": "stream",
     "text": [
      "['kuning', 'biru', 'pink', 'hitam', 'coklat']\n"
     ]
    }
   ],
   "source": [
    "#Extend\n",
    "warna.extend(['hitam','coklat'])\n",
    "print(warna)"
   ]
  },
  {
   "cell_type": "code",
   "execution_count": 9,
   "id": "69ba8f32",
   "metadata": {},
   "outputs": [
    {
     "name": "stdout",
     "output_type": "stream",
     "text": [
      "['kuning', 'toska', 'biru', 'pink', 'hitam', 'coklat']\n"
     ]
    }
   ],
   "source": [
    "#Insert\n",
    "warna.insert(1,'toska')\n",
    "print(warna)"
   ]
  },
  {
   "cell_type": "code",
   "execution_count": null,
   "id": "8269e842",
   "metadata": {},
   "outputs": [],
   "source": []
  },
  {
   "cell_type": "code",
   "execution_count": 29,
   "id": "d9f0dcb6",
   "metadata": {},
   "outputs": [],
   "source": [
    "#TUPLE\n",
    "#Menampilkan nilai Tuple menggunakan perulangan"
   ]
  },
  {
   "cell_type": "code",
   "execution_count": 30,
   "id": "9578f16d",
   "metadata": {},
   "outputs": [
    {
     "name": "stdout",
     "output_type": "stream",
     "text": [
      "anggur\n",
      "mangga\n",
      "apel\n",
      "melon\n"
     ]
    }
   ],
   "source": [
    "buah =(\"anggur\",\"mangga\",\"apel\",\"melon\")\n",
    "for i in(buah):\n",
    "    print(i)"
   ]
  },
  {
   "cell_type": "code",
   "execution_count": 31,
   "id": "5c02b40f",
   "metadata": {},
   "outputs": [
    {
     "name": "stdout",
     "output_type": "stream",
     "text": [
      "['anggur', 'rambutan', 'apel', 'melon']\n"
     ]
    }
   ],
   "source": [
    "#Mengupdate nilai Tuple\n",
    "buah=list(buah)\n",
    "buah[1]='rambutan'\n",
    "print(buah)"
   ]
  },
  {
   "cell_type": "code",
   "execution_count": 32,
   "id": "3b1aefd2",
   "metadata": {},
   "outputs": [
    {
     "name": "stdout",
     "output_type": "stream",
     "text": [
      "['anggur', 'rambutan', 'apel']\n"
     ]
    }
   ],
   "source": [
    "#Menghapus nilai Tuple\n",
    "#Remove\n",
    "buah=list(buah)\n",
    "buah.remove('melon')\n",
    "print(buah)"
   ]
  },
  {
   "cell_type": "code",
   "execution_count": 33,
   "id": "36c87434",
   "metadata": {},
   "outputs": [
    {
     "name": "stdout",
     "output_type": "stream",
     "text": [
      "['anggur', 'rambutan']\n"
     ]
    }
   ],
   "source": [
    "#Del\n",
    "buah=list(buah)\n",
    "del buah[2]\n",
    "print(buah)"
   ]
  },
  {
   "cell_type": "code",
   "execution_count": 34,
   "id": "ddf950c3",
   "metadata": {},
   "outputs": [
    {
     "name": "stdout",
     "output_type": "stream",
     "text": [
      "['anggur']\n"
     ]
    }
   ],
   "source": [
    "#Pop\n",
    "buah=list(buah)\n",
    "buah.pop()\n",
    "print(buah)"
   ]
  },
  {
   "cell_type": "code",
   "execution_count": 35,
   "id": "a0044a1e",
   "metadata": {},
   "outputs": [
    {
     "name": "stdout",
     "output_type": "stream",
     "text": [
      "['anggur', 'semangka']\n"
     ]
    }
   ],
   "source": [
    "#Menambah nilai Tuple\n",
    "buah=list(buah)\n",
    "buah.append(\"semangka\")\n",
    "print(buah)"
   ]
  },
  {
   "cell_type": "code",
   "execution_count": 36,
   "id": "7f941c92",
   "metadata": {},
   "outputs": [
    {
     "name": "stdout",
     "output_type": "stream",
     "text": [
      "['anggur', 'semangka', 'pepaya', 'klengkeng']\n"
     ]
    }
   ],
   "source": [
    "#Extend\n",
    "buah=list(buah)\n",
    "buah.extend(['pepaya','klengkeng'])\n",
    "print(buah)"
   ]
  },
  {
   "cell_type": "code",
   "execution_count": 37,
   "id": "4752a4d8",
   "metadata": {},
   "outputs": [
    {
     "name": "stdout",
     "output_type": "stream",
     "text": [
      "['anggur', 'rambutan', 'semangka', 'pepaya', 'klengkeng']\n"
     ]
    }
   ],
   "source": [
    "#Insert\n",
    "buah=list(buah)\n",
    "buah.insert(1,'rambutan')\n",
    "print(buah)"
   ]
  },
  {
   "cell_type": "code",
   "execution_count": null,
   "id": "b5d9fa8d",
   "metadata": {},
   "outputs": [],
   "source": []
  },
  {
   "cell_type": "code",
   "execution_count": null,
   "id": "6d72f1b7",
   "metadata": {},
   "outputs": [],
   "source": [
    "#DICTIONARY\n",
    "#Menampilkan nilai Tuple menggunakan perulangan"
   ]
  },
  {
   "cell_type": "code",
   "execution_count": 38,
   "id": "475c91b9",
   "metadata": {},
   "outputs": [
    {
     "name": "stdout",
     "output_type": "stream",
     "text": [
      "('nama', 'ayuhidaya')\n",
      "('umur', '19')\n",
      "('prodi', 'informatika')\n"
     ]
    }
   ],
   "source": [
    "myidentitas ={\"nama\":\"ayuhidaya\",\"umur\":\"19\",\"prodi\":\"informatika\"}\n",
    "for i in myidentitas.items():\n",
    "    print(i)\n",
    "    "
   ]
  },
  {
   "cell_type": "code",
   "execution_count": 39,
   "id": "9c704aff",
   "metadata": {},
   "outputs": [
    {
     "name": "stdout",
     "output_type": "stream",
     "text": [
      "{'nama': 'berlian', 'umur': '19', 'prodi': 'informatika'}\n"
     ]
    }
   ],
   "source": [
    "#Update \n",
    "myidentitas['nama']='berlian'\n",
    "print(myidentitas)"
   ]
  },
  {
   "cell_type": "code",
   "execution_count": 40,
   "id": "87b64a12",
   "metadata": {},
   "outputs": [
    {
     "name": "stdout",
     "output_type": "stream",
     "text": [
      "{'nama': 'berlian', 'prodi': 'informatika'}\n"
     ]
    }
   ],
   "source": [
    "#Menghapus \n",
    "myidentitas.pop('umur')\n",
    "print(myidentitas)"
   ]
  },
  {
   "cell_type": "code",
   "execution_count": 41,
   "id": "0f99a1b9",
   "metadata": {},
   "outputs": [
    {
     "name": "stdout",
     "output_type": "stream",
     "text": [
      "{'nama': 'berlian', 'prodi': 'informatika', 'status': 'mahasiswa'}\n"
     ]
    }
   ],
   "source": [
    "#Menambah \n",
    "myidentitas['status']='mahasiswa'\n",
    "print(myidentitas)"
   ]
  },
  {
   "cell_type": "code",
   "execution_count": null,
   "id": "afa7753b",
   "metadata": {},
   "outputs": [],
   "source": []
  },
  {
   "cell_type": "code",
   "execution_count": 42,
   "id": "b16e0bdf",
   "metadata": {},
   "outputs": [
    {
     "name": "stdout",
     "output_type": "stream",
     "text": [
      "kelinci\n",
      "angsa\n",
      "siput\n",
      "semut\n"
     ]
    }
   ],
   "source": [
    "#SET\n",
    "#Perulangan\n",
    "hewan ={\"siput\",\"kelinci\",\"semut\",\"angsa\"}\n",
    "for i in(hewan):\n",
    "    print(i)"
   ]
  },
  {
   "cell_type": "code",
   "execution_count": 43,
   "id": "ec5e36ed",
   "metadata": {},
   "outputs": [
    {
     "name": "stdout",
     "output_type": "stream",
     "text": [
      "['kelinci', 'ikan', 'siput', 'semut']\n"
     ]
    }
   ],
   "source": [
    "#Update \n",
    "hewan=list(hewan)\n",
    "hewan[1]=\"ikan\"\n",
    "print(hewan)"
   ]
  },
  {
   "cell_type": "code",
   "execution_count": 44,
   "id": "428c7ea4",
   "metadata": {},
   "outputs": [
    {
     "name": "stdout",
     "output_type": "stream",
     "text": [
      "['kelinci', 'siput', 'semut']\n"
     ]
    }
   ],
   "source": [
    "#Menghapus \n",
    "hewan=list(hewan)\n",
    "hewan.remove(\"ikan\")\n",
    "print(hewan)"
   ]
  },
  {
   "cell_type": "code",
   "execution_count": 45,
   "id": "684695ea",
   "metadata": {},
   "outputs": [
    {
     "name": "stdout",
     "output_type": "stream",
     "text": [
      "['kelinci', 'siput']\n"
     ]
    }
   ],
   "source": [
    "#Del\n",
    "hewan=list(hewan)\n",
    "del hewan[2]\n",
    "print(hewan)"
   ]
  },
  {
   "cell_type": "code",
   "execution_count": 46,
   "id": "d6d3c6d1",
   "metadata": {},
   "outputs": [
    {
     "name": "stdout",
     "output_type": "stream",
     "text": [
      "['kelinci']\n"
     ]
    }
   ],
   "source": [
    "#pop\n",
    "hewan=list(hewan)\n",
    "hewan.pop()\n",
    "print(hewan)"
   ]
  },
  {
   "cell_type": "code",
   "execution_count": 47,
   "id": "747aab17",
   "metadata": {},
   "outputs": [
    {
     "name": "stdout",
     "output_type": "stream",
     "text": [
      "['kelinci', 'kancil']\n"
     ]
    }
   ],
   "source": [
    "#Menambah \n",
    "hewan=list(hewan)\n",
    "hewan.append(\"kancil\")\n",
    "print(hewan)"
   ]
  },
  {
   "cell_type": "code",
   "execution_count": 50,
   "id": "eaa23ff3",
   "metadata": {},
   "outputs": [
    {
     "name": "stdout",
     "output_type": "stream",
     "text": [
      "['kelinci', 'kupu-kupu', 'kancil', 'cacing', 'semut', 'cacing', 'semut']\n"
     ]
    }
   ],
   "source": [
    "hewan=list(hewan)\n",
    "hewan.extend([\"cacing\",\"semut\"])\n",
    "print(hewan)"
   ]
  },
  {
   "cell_type": "code",
   "execution_count": 49,
   "id": "140543d6",
   "metadata": {},
   "outputs": [
    {
     "name": "stdout",
     "output_type": "stream",
     "text": [
      "['kelinci', 'kupu-kupu', 'kancil', 'cacing', 'semut']\n"
     ]
    }
   ],
   "source": [
    "hewan=list(hewan)\n",
    "hewan.insert(1,\"kupu-kupu\")\n",
    "print(hewan)"
   ]
  },
  {
   "cell_type": "code",
   "execution_count": null,
   "id": "6fa7dc54",
   "metadata": {},
   "outputs": [],
   "source": []
  }
 ],
 "metadata": {
  "kernelspec": {
   "display_name": "Python 3 (ipykernel)",
   "language": "python",
   "name": "python3"
  },
  "language_info": {
   "codemirror_mode": {
    "name": "ipython",
    "version": 3
   },
   "file_extension": ".py",
   "mimetype": "text/x-python",
   "name": "python",
   "nbconvert_exporter": "python",
   "pygments_lexer": "ipython3",
   "version": "3.9.10"
  }
 },
 "nbformat": 4,
 "nbformat_minor": 5
}
